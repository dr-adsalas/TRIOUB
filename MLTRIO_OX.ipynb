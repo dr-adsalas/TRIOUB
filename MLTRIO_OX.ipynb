{
  "nbformat": 4,
  "nbformat_minor": 0,
  "metadata": {
    "colab": {
      "provenance": [],
      "authorship_tag": "ABX9TyMnZ0UkHlAF31FP69ziP7r+",
      "include_colab_link": true
    },
    "kernelspec": {
      "name": "python3",
      "display_name": "Python 3"
    },
    "language_info": {
      "name": "python"
    }
  },
  "cells": [
    {
      "cell_type": "markdown",
      "metadata": {
        "id": "view-in-github",
        "colab_type": "text"
      },
      "source": [
        "<a href=\"https://colab.research.google.com/github/dr-adsalas/TRIOUB/blob/main/MLTRIO_OX.ipynb\" target=\"_parent\"><img src=\"https://colab.research.google.com/assets/colab-badge.svg\" alt=\"Open In Colab\"/></a>"
      ]
    },
    {
      "cell_type": "code",
      "execution_count": null,
      "metadata": {
        "id": "kzPzSfCbx4Fw"
      },
      "outputs": [],
      "source": [
        "import pandas as pd\n",
        "import numpy as np\n",
        "import matplotlib.pyplot as plt\n",
        "import seaborn as sns\n",
        "from sklearn.ensemble import RandomForestRegressor\n",
        "from sklearn.metrics import mean_absolute_error\n",
        "from sklearn.model_selection import train_test_split"
      ]
    },
    {
      "cell_type": "code",
      "source": [
        "# URL for the dataset\n",
        "url = \"https://raw.githubusercontent.com/dr-adsalas/TRIOUB/main/KOXRTRIO2024.csv\"\n",
        "\n",
        "# Load data directly from GitHub\n",
        "data = pd.read_csv(url)\n",
        "\n",
        "# Inspect the first few rows\n",
        "print(data.head())\n",
        "print(data.info())"
      ],
      "metadata": {
        "colab": {
          "base_uri": "https://localhost:8080/"
        },
        "id": "jamrEbiLx7Un",
        "outputId": "c4510c3e-0a40-4bd2-e7d8-0058b902eb85"
      },
      "execution_count": null,
      "outputs": [
        {
          "output_type": "stream",
          "name": "stdout",
          "text": [
            "       Date   Time            date_time altimeter air_temp relative_humidity  \\\n",
            "0  12/31/23  16:10  2023-12-31 16:10:00     30.05    60.98             69.89   \n",
            "1  12/31/23  16:51  2023-12-31 16:51:00     30.05    60.08             69.32   \n",
            "2  12/31/23  16:58  2023-12-31 16:58:00     30.05    60.08             69.32   \n",
            "3  12/31/23  17:51  2023-12-31 17:51:00     30.06    57.92             80.58   \n",
            "4  12/31/23  18:51  2023-12-31 18:51:00     30.07    57.02             83.23   \n",
            "\n",
            "  wind_direction wind_speed sea_level_pressure Unnamed: 9  \n",
            "0             90       6.91                NaN     1017.6  \n",
            "1              0          0             1017.6     1017.6  \n",
            "2            220       3.45                NaN     1017.6  \n",
            "3            140       3.45             1017.9    1017.95  \n",
            "4              0          0             1018.1    1018.29  \n",
            "<class 'pandas.core.frame.DataFrame'>\n",
            "RangeIndex: 11109 entries, 0 to 11108\n",
            "Data columns (total 10 columns):\n",
            " #   Column              Non-Null Count  Dtype \n",
            "---  ------              --------------  ----- \n",
            " 0   Date                11108 non-null  object\n",
            " 1   Time                11108 non-null  object\n",
            " 2   date_time           11108 non-null  object\n",
            " 3   altimeter           10885 non-null  object\n",
            " 4   air_temp            10987 non-null  object\n",
            " 5   relative_humidity   10987 non-null  object\n",
            " 6   wind_direction      10777 non-null  object\n",
            " 7   wind_speed          10968 non-null  object\n",
            " 8   sea_level_pressure  7947 non-null   object\n",
            " 9   Unnamed: 9          10860 non-null  object\n",
            "dtypes: object(10)\n",
            "memory usage: 868.0+ KB\n",
            "None\n"
          ]
        }
      ]
    },
    {
      "cell_type": "code",
      "source": [
        "# Convert date_time column to datetime\n",
        "data['date_time'] = pd.to_datetime(data['date_time'])\n",
        "\n",
        "# Convert numerical columns to floats\n",
        "numeric_cols = ['altimeter', 'air_temp', 'relative_humidity', 'wind_speed', 'sea_level_pressure']\n",
        "data[numeric_cols] = data[numeric_cols].apply(pd.to_numeric, errors='coerce')\n",
        "\n",
        "# Drop rows with missing values in key columns\n",
        "data = data.dropna(subset=['air_temp', 'relative_humidity', 'wind_speed'])"
      ],
      "metadata": {
        "id": "31SYKHgxzk-P"
      },
      "execution_count": null,
      "outputs": []
    },
    {
      "cell_type": "code",
      "source": [
        "# Create time-based features\n",
        "data['Hour'] = data['date_time'].dt.hour\n",
        "data['DayOfWeek'] = data['date_time'].dt.dayofweek\n",
        "\n",
        "# Cyclic encoding for periodicity\n",
        "data['Hour_sin'] = np.sin(2 * np.pi * data['Hour'] / 24)\n",
        "data['Hour_cos'] = np.cos(2 * np.pi * data['Hour'] / 24)\n",
        "\n",
        "# Lag features for air temperature\n",
        "data['Lag_1h'] = data['air_temp'].shift(6)  # Assuming ~10 min intervals, 6 = 1 hour\n",
        "data['Lag_3h'] = data['air_temp'].shift(18)  # 3 hours\n",
        "data['Rolling_6h'] = data['air_temp'].rolling(36).mean()  # 6-hour rolling average\n",
        "\n",
        "# Drop rows with missing lagged/rolling features\n",
        "data = data.dropna()"
      ],
      "metadata": {
        "id": "0m0CAQVUzp8g"
      },
      "execution_count": null,
      "outputs": []
    },
    {
      "cell_type": "code",
      "source": [
        "# Define features and target\n",
        "X = data[['Lag_1h', 'Lag_3h', 'Rolling_6h', 'Hour_sin', 'Hour_cos', 'relative_humidity', 'wind_speed']]\n",
        "y = data['air_temp']\n",
        "\n",
        "# Train-test split\n",
        "from sklearn.model_selection import train_test_split\n",
        "X_train, X_test, y_train, y_test = train_test_split(X, y, test_size=0.3, random_state=42)"
      ],
      "metadata": {
        "id": "U80Ejtwpz5SS"
      },
      "execution_count": null,
      "outputs": []
    },
    {
      "cell_type": "code",
      "source": [
        "# Train the model\n",
        "model = RandomForestRegressor(random_state=42, n_estimators=100)\n",
        "model.fit(X_train, y_train)\n",
        "\n",
        "# Make predictions\n",
        "y_pred = model.predict(X_test)\n",
        "\n",
        "# Evaluate the model\n",
        "mae = mean_absolute_error(y_test, y_pred)\n",
        "print(f\"Mean Absolute Error: {mae:.2f}°C\")"
      ],
      "metadata": {
        "colab": {
          "base_uri": "https://localhost:8080/"
        },
        "id": "3aYzrUv6z7Ov",
        "outputId": "8a8960a1-04de-4d1e-a860-c8036d622193"
      },
      "execution_count": null,
      "outputs": [
        {
          "output_type": "stream",
          "name": "stdout",
          "text": [
            "Mean Absolute Error: 1.23°C\n"
          ]
        }
      ]
    },
    {
      "cell_type": "code",
      "source": [
        "# Get the last rows for prediction (e.g., last 36 rows = 6 hours)\n",
        "latest_data = data.iloc[-36:]\n",
        "\n",
        "# Prepare features for prediction\n",
        "X_latest = latest_data[['Lag_1h', 'Lag_3h', 'Rolling_6h', 'Hour_sin', 'Hour_cos', 'relative_humidity', 'wind_speed']]\n",
        "\n",
        "# Predict\n",
        "future_temps = model.predict(X_latest)\n",
        "print(f\"Predicted temperatures: {future_temps}\")"
      ],
      "metadata": {
        "colab": {
          "base_uri": "https://localhost:8080/"
        },
        "id": "-boH7qqW0AAV",
        "outputId": "e3e27a8e-ed52-4e2b-d58a-34e49f0bfabf"
      },
      "execution_count": null,
      "outputs": [
        {
          "output_type": "stream",
          "name": "stdout",
          "text": [
            "Predicted temperatures: [53.213  53.2526 50.8946 49.9424 49.604  48.9776 49.9424 48.9236 47.1308\n",
            " 44.9726 46.9148 45.3938 47.2766 53.96   59.603  65.093  60.9296 69.2996\n",
            " 70.0124 69.9566 64.9508 59.4716 56.8706 55.2092 55.9382 54.1994 53.4938\n",
            " 50.9378 53.969  58.9874 61.5542 58.0388 61.1744 57.7742 57.7778 57.4304]\n"
          ]
        }
      ]
    },
    {
      "cell_type": "code",
      "source": [
        "# Create a DataFrame to associate predictions with their timestamps\n",
        "future_dates = pd.date_range(start=data['date_time'].iloc[-1], periods=len(future_temps), freq='10min')\n",
        "future_df = pd.DataFrame({'Timestamp': future_dates, 'Predicted_Temperature': future_temps})\n",
        "\n",
        "# Resample to daily frequency and compute max and min temperatures\n",
        "daily_stats = future_df.resample('D', on='Timestamp').agg(\n",
        "    Max_Temperature=('Predicted_Temperature', 'max'),\n",
        "    Min_Temperature=('Predicted_Temperature', 'min')\n",
        ")\n",
        "\n",
        "# Display daily maximum and minimum temperatures\n",
        "print(daily_stats)"
      ],
      "metadata": {
        "colab": {
          "base_uri": "https://localhost:8080/"
        },
        "id": "lnw1JKWB0P7G",
        "outputId": "897bfec9-42b3-409a-ee01-129ba953f1ec"
      },
      "execution_count": null,
      "outputs": [
        {
          "output_type": "stream",
          "name": "stdout",
          "text": [
            "            Max_Temperature  Min_Temperature\n",
            "Timestamp                                   \n",
            "2024-12-07          70.0124          44.9726\n"
          ]
        }
      ]
    },
    {
      "cell_type": "code",
      "source": [
        "import pandas as pd\n",
        "import numpy as np\n",
        "import matplotlib.pyplot as plt\n",
        "import seaborn as sns\n",
        "from sklearn.ensemble import RandomForestRegressor\n",
        "from sklearn.metrics import mean_absolute_error\n",
        "from sklearn.model_selection import train_test_split\n",
        "from sklearn.preprocessing import StandardScaler"
      ],
      "metadata": {
        "id": "WUKki_n12XsU"
      },
      "execution_count": null,
      "outputs": []
    },
    {
      "source": [
        "# Correct URL for raw data\n",
        "data_url = \"https://raw.githubusercontent.com/dr-adsalas/TRIOUB/main/KOXRTRIO2024.csv\"\n",
        "data = pd.read_csv(data_url)"
      ],
      "cell_type": "code",
      "metadata": {
        "id": "hv5l3ogp59QZ"
      },
      "execution_count": null,
      "outputs": []
    },
    {
      "cell_type": "code",
      "source": [
        "# Convert 'air_temp', 'relative_humidity', 'wind_speed', 'sea_level_pressure' to numeric, coercing errors\n",
        "data['air_temp'] = pd.to_numeric(data['air_temp'], errors='coerce')\n",
        "data['relative_humidity'] = pd.to_numeric(data['relative_humidity'], errors='coerce')\n",
        "data['wind_speed'] = pd.to_numeric(data['wind_speed'], errors='coerce')\n",
        "data['sea_level_pressure'] = pd.to_numeric(data['sea_level_pressure'], errors='coerce')\n",
        "data['date_time'] = pd.to_datetime(data['date_time'], errors='coerce')"
      ],
      "metadata": {
        "id": "wcQVB1Ex6CLI"
      },
      "execution_count": null,
      "outputs": []
    },
    {
      "cell_type": "code",
      "source": [
        "# Create time-based features\n",
        "data['Hour'] = data['date_time'].dt.hour\n",
        "data['DayOfWeek'] = data['date_time'].dt.dayofweek\n",
        "\n",
        "# Cyclic encoding for periodicity\n",
        "data['Hour_sin'] = np.sin(2 * np.pi * data['Hour'] / 24)\n",
        "data['Hour_cos'] = np.cos(2 * np.pi * data['Hour'] / 24)"
      ],
      "metadata": {
        "id": "P7K0nV-96EtS"
      },
      "execution_count": null,
      "outputs": []
    },
    {
      "cell_type": "code",
      "source": [
        "# Lag features for air temperature\n",
        "data['Lag_1h'] = data['air_temp'].shift(6)  # Assuming ~10 min intervals, 6 = 1 hour\n",
        "data['Lag_3h'] = data['air_temp'].shift(18)  # 3 hours\n",
        "data['Rolling_6h'] = data['air_temp'].rolling(36).mean()  # 6-hour rolling average\n",
        "\n",
        "# Drop rows with missing lagged/rolling features\n",
        "data = data.dropna()"
      ],
      "metadata": {
        "id": "ClUnevJ96dny"
      },
      "execution_count": null,
      "outputs": []
    },
    {
      "source": [
        "# Assuming 'model' is your trained model to predict temperatures\n",
        "# Use the same features for prediction as used during training\n",
        "future_temps = model.predict(data[['Lag_1h', 'Lag_3h', 'Rolling_6h', 'Hour_sin', 'Hour_cos', 'relative_humidity', 'wind_speed']])\n",
        "\n",
        "# Create DataFrame with prediction timestamps and temperatures\n",
        "future_dates = pd.date_range(start=data['date_time'].iloc[-1], periods=len(future_temps), freq='10min')\n",
        "future_df = pd.DataFrame({'Timestamp': future_dates, 'Predicted_Temperature': future_temps})"
      ],
      "cell_type": "code",
      "metadata": {
        "id": "cS1-3Ff56ltu"
      },
      "execution_count": null,
      "outputs": []
    },
    {
      "cell_type": "code",
      "source": [
        "# Resample to daily frequency and compute max and min temperatures for the next 3 days\n",
        "daily_stats = future_df.resample('D', on='Timestamp').agg(\n",
        "    Max_Temperature=('Predicted_Temperature', 'max'),\n",
        "    Min_Temperature=('Predicted_Temperature', 'min')\n",
        ")\n",
        "\n",
        "# Get predictions for 12/8/2024, 12/9/2024, and 12/10/2024\n",
        "target_days = ['2024-12-08', '2024-12-09', '2024-12-10']\n",
        "predictions_for_days = daily_stats.loc[target_days]\n",
        "\n",
        "# Print the predictions\n",
        "print(predictions_for_days)"
      ],
      "metadata": {
        "colab": {
          "base_uri": "https://localhost:8080/"
        },
        "id": "DqgONDBB6f6k",
        "outputId": "3cb1f2a3-cf5d-4fac-8668-c3ecc8c4f546"
      },
      "execution_count": null,
      "outputs": [
        {
          "output_type": "stream",
          "name": "stdout",
          "text": [
            "            Max_Temperature  Min_Temperature\n",
            "Timestamp                                   \n",
            "2024-12-08          71.7980          39.2828\n",
            "2024-12-09          63.7196          43.8422\n",
            "2024-12-10          65.5682          48.6464\n"
          ]
        }
      ]
    },
    {
      "cell_type": "code",
      "source": [
        "mae = mean_absolute_error(y_test, y_pred)\n",
        "print(f\"Mean Absolute Error: {mae:.2f}°C\")"
      ],
      "metadata": {
        "colab": {
          "base_uri": "https://localhost:8080/"
        },
        "id": "eyxBdRE07OxS",
        "outputId": "2f6dddce-74d2-4882-d162-cea93729c17f"
      },
      "execution_count": null,
      "outputs": [
        {
          "output_type": "stream",
          "name": "stdout",
          "text": [
            "Mean Absolute Error: 1.23°C\n"
          ]
        }
      ]
    }
  ]
}