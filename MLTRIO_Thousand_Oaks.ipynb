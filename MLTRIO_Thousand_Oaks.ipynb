{
  "nbformat": 4,
  "nbformat_minor": 0,
  "metadata": {
    "colab": {
      "provenance": [],
      "authorship_tag": "ABX9TyMGpN/PQXr+dRvuIloS3WDM",
      "include_colab_link": true
    },
    "kernelspec": {
      "name": "python3",
      "display_name": "Python 3"
    },
    "language_info": {
      "name": "python"
    }
  },
  "cells": [
    {
      "cell_type": "markdown",
      "metadata": {
        "id": "view-in-github",
        "colab_type": "text"
      },
      "source": [
        "<a href=\"https://colab.research.google.com/github/dr-adsalas/TRIOUB/blob/main/MLTRIO_Thousand_Oaks.ipynb\" target=\"_parent\"><img src=\"https://colab.research.google.com/assets/colab-badge.svg\" alt=\"Open In Colab\"/></a>"
      ]
    },
    {
      "cell_type": "code",
      "execution_count": null,
      "metadata": {
        "id": "kzPzSfCbx4Fw"
      },
      "outputs": [],
      "source": [
        "import pandas as pd\n",
        "import numpy as np\n",
        "import matplotlib.pyplot as plt\n",
        "import seaborn as sns\n",
        "from sklearn.ensemble import RandomForestRegressor\n",
        "from sklearn.metrics import mean_absolute_error\n",
        "from sklearn.model_selection import train_test_split"
      ]
    },
    {
      "cell_type": "code",
      "source": [
        "# URL for the dataset\n",
        "url = \"https://raw.githubusercontent.com/dr-adsalas/TRIOUB/main/TOTRIO2024.csv\"\n",
        "\n",
        "# Load data directly from GitHub\n",
        "data = pd.read_csv(url)\n",
        "\n",
        "# Inspect the first few rows\n",
        "print(data.head())\n",
        "print(data.info())"
      ],
      "metadata": {
        "colab": {
          "base_uri": "https://localhost:8080/"
        },
        "id": "jamrEbiLx7Un",
        "outputId": "3d14a8da-461c-47e0-c5b1-c1b771687ae1"
      },
      "execution_count": null,
      "outputs": [
        {
          "output_type": "stream",
          "name": "stdout",
          "text": [
            "       Date   Time            date_time altimeter air_temp relative_humidity  \\\n",
            "0  12/31/23  16:00  2023-12-31 16:00:00     30.03       57                78   \n",
            "1  12/31/23  16:30  2023-12-31 16:30:00     30.03       56                79   \n",
            "2  12/31/23  16:45  2023-12-31 16:45:00     30.02       55                80   \n",
            "3  12/31/23  17:00  2023-12-31 17:00:00     30.02       54                82   \n",
            "4  12/31/23  17:30  2023-12-31 17:30:00     30.03       53                85   \n",
            "\n",
            "  wind_speed wind_direction  \n",
            "0          0            NaN  \n",
            "1          0            NaN  \n",
            "2          0            NaN  \n",
            "3          0            NaN  \n",
            "4          0            NaN  \n",
            "<class 'pandas.core.frame.DataFrame'>\n",
            "RangeIndex: 26114 entries, 0 to 26113\n",
            "Data columns (total 8 columns):\n",
            " #   Column             Non-Null Count  Dtype \n",
            "---  ------             --------------  ----- \n",
            " 0   Date               26113 non-null  object\n",
            " 1   Time               26113 non-null  object\n",
            " 2   date_time          26113 non-null  object\n",
            " 3   altimeter          26114 non-null  object\n",
            " 4   air_temp           26097 non-null  object\n",
            " 5   relative_humidity  26097 non-null  object\n",
            " 6   wind_speed         26078 non-null  object\n",
            " 7   wind_direction     2626 non-null   object\n",
            "dtypes: object(8)\n",
            "memory usage: 1.6+ MB\n",
            "None\n"
          ]
        }
      ]
    },
    {
      "cell_type": "code",
      "source": [
        "# Convert date_time column to datetime\n",
        "data['date_time'] = pd.to_datetime(data['date_time'])\n",
        "\n",
        "# Convert numerical columns to floats\n",
        "numeric_cols = ['altimeter', 'air_temp', 'relative_humidity', 'wind_speed',]\n",
        "data[numeric_cols] = data[numeric_cols].apply(pd.to_numeric, errors='coerce')\n",
        "\n",
        "# Drop rows with missing values in key columns\n",
        "data = data.dropna(subset=['air_temp', 'relative_humidity', 'wind_speed'])"
      ],
      "metadata": {
        "id": "31SYKHgxzk-P"
      },
      "execution_count": null,
      "outputs": []
    },
    {
      "cell_type": "code",
      "source": [
        "# Create time-based features\n",
        "data['Hour'] = data['date_time'].dt.hour\n",
        "data['DayOfWeek'] = data['date_time'].dt.dayofweek\n",
        "\n",
        "# Cyclic encoding for periodicity\n",
        "data['Hour_sin'] = np.sin(2 * np.pi * data['Hour'] / 24)\n",
        "data['Hour_cos'] = np.cos(2 * np.pi * data['Hour'] / 24)\n",
        "\n",
        "# Lag features for air temperature\n",
        "data['Lag_1h'] = data['air_temp'].shift(6)  # Assuming ~10 min intervals, 6 = 1 hour\n",
        "data['Lag_3h'] = data['air_temp'].shift(18)  # 3 hours\n",
        "data['Rolling_6h'] = data['air_temp'].rolling(36).mean()  # 6-hour rolling average\n",
        "\n",
        "# Drop rows with missing lagged/rolling features\n",
        "data = data.dropna()"
      ],
      "metadata": {
        "id": "0m0CAQVUzp8g",
        "colab": {
          "base_uri": "https://localhost:8080/"
        },
        "outputId": "d017f047-5684-4dfa-fff7-514c04e4d430"
      },
      "execution_count": null,
      "outputs": [
        {
          "output_type": "stream",
          "name": "stderr",
          "text": [
            "<ipython-input-4-b0fabe01fd77>:2: SettingWithCopyWarning: \n",
            "A value is trying to be set on a copy of a slice from a DataFrame.\n",
            "Try using .loc[row_indexer,col_indexer] = value instead\n",
            "\n",
            "See the caveats in the documentation: https://pandas.pydata.org/pandas-docs/stable/user_guide/indexing.html#returning-a-view-versus-a-copy\n",
            "  data['Hour'] = data['date_time'].dt.hour\n",
            "<ipython-input-4-b0fabe01fd77>:3: SettingWithCopyWarning: \n",
            "A value is trying to be set on a copy of a slice from a DataFrame.\n",
            "Try using .loc[row_indexer,col_indexer] = value instead\n",
            "\n",
            "See the caveats in the documentation: https://pandas.pydata.org/pandas-docs/stable/user_guide/indexing.html#returning-a-view-versus-a-copy\n",
            "  data['DayOfWeek'] = data['date_time'].dt.dayofweek\n",
            "<ipython-input-4-b0fabe01fd77>:6: SettingWithCopyWarning: \n",
            "A value is trying to be set on a copy of a slice from a DataFrame.\n",
            "Try using .loc[row_indexer,col_indexer] = value instead\n",
            "\n",
            "See the caveats in the documentation: https://pandas.pydata.org/pandas-docs/stable/user_guide/indexing.html#returning-a-view-versus-a-copy\n",
            "  data['Hour_sin'] = np.sin(2 * np.pi * data['Hour'] / 24)\n",
            "<ipython-input-4-b0fabe01fd77>:7: SettingWithCopyWarning: \n",
            "A value is trying to be set on a copy of a slice from a DataFrame.\n",
            "Try using .loc[row_indexer,col_indexer] = value instead\n",
            "\n",
            "See the caveats in the documentation: https://pandas.pydata.org/pandas-docs/stable/user_guide/indexing.html#returning-a-view-versus-a-copy\n",
            "  data['Hour_cos'] = np.cos(2 * np.pi * data['Hour'] / 24)\n",
            "<ipython-input-4-b0fabe01fd77>:10: SettingWithCopyWarning: \n",
            "A value is trying to be set on a copy of a slice from a DataFrame.\n",
            "Try using .loc[row_indexer,col_indexer] = value instead\n",
            "\n",
            "See the caveats in the documentation: https://pandas.pydata.org/pandas-docs/stable/user_guide/indexing.html#returning-a-view-versus-a-copy\n",
            "  data['Lag_1h'] = data['air_temp'].shift(6)  # Assuming ~10 min intervals, 6 = 1 hour\n",
            "<ipython-input-4-b0fabe01fd77>:11: SettingWithCopyWarning: \n",
            "A value is trying to be set on a copy of a slice from a DataFrame.\n",
            "Try using .loc[row_indexer,col_indexer] = value instead\n",
            "\n",
            "See the caveats in the documentation: https://pandas.pydata.org/pandas-docs/stable/user_guide/indexing.html#returning-a-view-versus-a-copy\n",
            "  data['Lag_3h'] = data['air_temp'].shift(18)  # 3 hours\n",
            "<ipython-input-4-b0fabe01fd77>:12: SettingWithCopyWarning: \n",
            "A value is trying to be set on a copy of a slice from a DataFrame.\n",
            "Try using .loc[row_indexer,col_indexer] = value instead\n",
            "\n",
            "See the caveats in the documentation: https://pandas.pydata.org/pandas-docs/stable/user_guide/indexing.html#returning-a-view-versus-a-copy\n",
            "  data['Rolling_6h'] = data['air_temp'].rolling(36).mean()  # 6-hour rolling average\n"
          ]
        }
      ]
    },
    {
      "cell_type": "code",
      "source": [
        "# Define features and target\n",
        "X = data[['Lag_1h', 'Lag_3h', 'Rolling_6h', 'Hour_sin', 'Hour_cos', 'relative_humidity', 'wind_speed']]\n",
        "y = data['air_temp']\n",
        "\n",
        "# Train-test split\n",
        "from sklearn.model_selection import train_test_split\n",
        "X_train, X_test, y_train, y_test = train_test_split(X, y, test_size=0.3, random_state=42)"
      ],
      "metadata": {
        "id": "U80Ejtwpz5SS"
      },
      "execution_count": null,
      "outputs": []
    },
    {
      "cell_type": "code",
      "source": [
        "# Train the model\n",
        "model = RandomForestRegressor(random_state=42, n_estimators=100)\n",
        "model.fit(X_train, y_train)\n",
        "\n",
        "# Make predictions\n",
        "y_pred = model.predict(X_test)\n",
        "\n",
        "# Evaluate the model\n",
        "mae = mean_absolute_error(y_test, y_pred)\n",
        "print(f\"Mean Absolute Error: {mae:.2f}°C\")"
      ],
      "metadata": {
        "colab": {
          "base_uri": "https://localhost:8080/"
        },
        "id": "3aYzrUv6z7Ov",
        "outputId": "0fc82979-d544-447e-c72f-59b5b0d32020"
      },
      "execution_count": null,
      "outputs": [
        {
          "output_type": "stream",
          "name": "stdout",
          "text": [
            "Mean Absolute Error: 1.22°C\n"
          ]
        }
      ]
    },
    {
      "cell_type": "code",
      "source": [
        "# Get the last rows for prediction (e.g., last 36 rows = 6 hours)\n",
        "latest_data = data.iloc[-36:]\n",
        "\n",
        "# Prepare features for prediction\n",
        "X_latest = latest_data[['Lag_1h', 'Lag_3h', 'Rolling_6h', 'Hour_sin', 'Hour_cos', 'relative_humidity', 'wind_speed']]\n",
        "\n",
        "# Predict\n",
        "future_temps = model.predict(X_latest)\n",
        "print(f\"Predicted temperatures: {future_temps}\")"
      ],
      "metadata": {
        "colab": {
          "base_uri": "https://localhost:8080/"
        },
        "id": "-boH7qqW0AAV",
        "outputId": "76fb0160-5e27-459f-a86c-86830d55845b"
      },
      "execution_count": null,
      "outputs": [
        {
          "output_type": "stream",
          "name": "stdout",
          "text": [
            "Predicted temperatures: [65.16 65.67 65.21 65.2  65.82 65.96 66.09 66.13 66.78 67.57 73.24 73.82\n",
            " 74.63 75.84 76.08 76.86 77.66 77.89 79.01 79.25 79.31 80.   79.05 78.58\n",
            " 67.68 67.87 67.91 67.91 67.86 67.67 67.08 66.88 66.45 66.14 65.48 66.43]\n"
          ]
        }
      ]
    },
    {
      "cell_type": "code",
      "source": [
        "# Create a DataFrame to associate predictions with their timestamps\n",
        "future_dates = pd.date_range(start=data['date_time'].iloc[-1], periods=len(future_temps), freq='10min')\n",
        "future_df = pd.DataFrame({'Timestamp': future_dates, 'Predicted_Temperature': future_temps})\n",
        "\n",
        "# Resample to daily frequency and compute max and min temperatures\n",
        "daily_stats = future_df.resample('D', on='Timestamp').agg(\n",
        "    Max_Temperature=('Predicted_Temperature', 'max'),\n",
        "    Min_Temperature=('Predicted_Temperature', 'min')\n",
        ")\n",
        "\n",
        "# Display daily maximum and minimum temperatures\n",
        "print(daily_stats)"
      ],
      "metadata": {
        "colab": {
          "base_uri": "https://localhost:8080/"
        },
        "id": "lnw1JKWB0P7G",
        "outputId": "922647de-5050-4753-f92a-e49bfa66c5ef"
      },
      "execution_count": null,
      "outputs": [
        {
          "output_type": "stream",
          "name": "stdout",
          "text": [
            "            Max_Temperature  Min_Temperature\n",
            "Timestamp                                   \n",
            "2024-12-07             80.0            65.16\n"
          ]
        }
      ]
    },
    {
      "cell_type": "code",
      "source": [
        "import pandas as pd\n",
        "import numpy as np\n",
        "import matplotlib.pyplot as plt\n",
        "import seaborn as sns\n",
        "from sklearn.ensemble import RandomForestRegressor\n",
        "from sklearn.metrics import mean_absolute_error\n",
        "from sklearn.model_selection import train_test_split\n",
        "from sklearn.preprocessing import StandardScaler"
      ],
      "metadata": {
        "id": "WUKki_n12XsU"
      },
      "execution_count": null,
      "outputs": []
    },
    {
      "source": [
        "# Correct URL for raw data\n",
        "data_url = \"https://raw.githubusercontent.com/dr-adsalas/TRIOUB/main/TOTRIO2024.csv\"\n",
        "data = pd.read_csv(data_url)"
      ],
      "cell_type": "code",
      "metadata": {
        "id": "hv5l3ogp59QZ"
      },
      "execution_count": null,
      "outputs": []
    },
    {
      "cell_type": "code",
      "source": [
        "# Convert 'air_temp', 'relative_humidity', 'wind_speed', 'sea_level_pressure' to numeric, coercing errors\n",
        "data['air_temp'] = pd.to_numeric(data['air_temp'], errors='coerce')\n",
        "data['relative_humidity'] = pd.to_numeric(data['relative_humidity'], errors='coerce')\n",
        "data['wind_speed'] = pd.to_numeric(data['wind_speed'], errors='coerce')\n",
        "data['date_time'] = pd.to_datetime(data['date_time'], errors='coerce')"
      ],
      "metadata": {
        "id": "wcQVB1Ex6CLI"
      },
      "execution_count": null,
      "outputs": []
    },
    {
      "cell_type": "code",
      "source": [
        "# Create time-based features\n",
        "data['Hour'] = data['date_time'].dt.hour\n",
        "data['DayOfWeek'] = data['date_time'].dt.dayofweek\n",
        "\n",
        "# Cyclic encoding for periodicity\n",
        "data['Hour_sin'] = np.sin(2 * np.pi * data['Hour'] / 24)\n",
        "data['Hour_cos'] = np.cos(2 * np.pi * data['Hour'] / 24)"
      ],
      "metadata": {
        "id": "P7K0nV-96EtS"
      },
      "execution_count": null,
      "outputs": []
    },
    {
      "cell_type": "code",
      "source": [
        "# Lag features for air temperature\n",
        "data['Lag_1h'] = data['air_temp'].shift(6)  # Assuming ~10 min intervals, 6 = 1 hour\n",
        "data['Lag_3h'] = data['air_temp'].shift(18)  # 3 hours\n",
        "data['Rolling_6h'] = data['air_temp'].rolling(36).mean()  # 6-hour rolling average\n",
        "\n",
        "# Drop rows with missing lagged/rolling features\n",
        "data = data.dropna()"
      ],
      "metadata": {
        "id": "ClUnevJ96dny"
      },
      "execution_count": null,
      "outputs": []
    },
    {
      "source": [
        "# Assuming 'model' is your trained model to predict temperatures\n",
        "# Use the same features for prediction as used during training\n",
        "future_temps = model.predict(data[['Lag_1h', 'Lag_3h', 'Rolling_6h', 'Hour_sin', 'Hour_cos', 'relative_humidity', 'wind_speed']])\n",
        "\n",
        "# Create DataFrame with prediction timestamps and temperatures\n",
        "future_dates = pd.date_range(start=data['date_time'].iloc[-1], periods=len(future_temps), freq='10min')\n",
        "future_df = pd.DataFrame({'Timestamp': future_dates, 'Predicted_Temperature': future_temps})"
      ],
      "cell_type": "code",
      "metadata": {
        "id": "cS1-3Ff56ltu"
      },
      "execution_count": null,
      "outputs": []
    },
    {
      "cell_type": "code",
      "source": [
        "# Resample to daily frequency and compute max and min temperatures for the next 3 days\n",
        "daily_stats = future_df.resample('D', on='Timestamp').agg(\n",
        "    Max_Temperature=('Predicted_Temperature', 'max'),\n",
        "    Min_Temperature=('Predicted_Temperature', 'min')\n",
        ")\n",
        "\n",
        "# Get predictions for 12/8/2024, 12/9/2024, and 12/10/2024\n",
        "target_days = ['2024-12-08', '2024-12-09', '2024-12-10']\n",
        "predictions_for_days = daily_stats.loc[target_days]\n",
        "\n",
        "# Print the predictions\n",
        "print(predictions_for_days)"
      ],
      "metadata": {
        "colab": {
          "base_uri": "https://localhost:8080/"
        },
        "id": "DqgONDBB6f6k",
        "outputId": "f8b7c2bb-a889-4d24-d695-44b81af6f83e"
      },
      "execution_count": null,
      "outputs": [
        {
          "output_type": "stream",
          "name": "stdout",
          "text": [
            "            Max_Temperature  Min_Temperature\n",
            "Timestamp                                   \n",
            "2024-12-08            73.21            51.59\n",
            "2024-12-09            79.27            46.29\n",
            "2024-12-10            75.75            50.42\n"
          ]
        }
      ]
    },
    {
      "cell_type": "code",
      "source": [
        "mae = mean_absolute_error(y_test, y_pred)\n",
        "print(f\"Mean Absolute Error: {mae:.2f}°C\")"
      ],
      "metadata": {
        "colab": {
          "base_uri": "https://localhost:8080/"
        },
        "id": "eyxBdRE07OxS",
        "outputId": "f3e7477c-24e7-456d-d055-6079f8faa098"
      },
      "execution_count": null,
      "outputs": [
        {
          "output_type": "stream",
          "name": "stdout",
          "text": [
            "Mean Absolute Error: 1.22°C\n"
          ]
        }
      ]
    }
  ]
}